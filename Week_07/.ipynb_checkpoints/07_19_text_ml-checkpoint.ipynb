{
 "cells": [
  {
   "cell_type": "markdown",
   "metadata": {
    "slideshow": {
     "slide_type": "slide"
    }
   },
   "source": [
    "# Machine Learning in Python\n",
    "\n",
    "- Tools: scikit-learn (`sklearn`)\n",
    "    - Data Partitioning\n",
    "    - Feature selection\n",
    "    - Modeling: SVM\n",
    "    - Model Assessment\n",
    "    \n",
    " [![Open In Colab](https://colab.research.google.com/assets/colab-badge.svg)](https://colab.research.google.com/github/COGS108/Lectures-Fa23/blob/main/Week_07/07_19_ml.ipynb)\n"
   ]
  },
  {
   "cell_type": "markdown",
   "metadata": {
    "slideshow": {
     "slide_type": "notes"
    }
   },
   "source": [
    "For more reading on scikit-learn (`sklearn`) and machine learning in Python: https://scikit-learn.org/stable/index.html"
   ]
  },
  {
   "cell_type": "markdown",
   "metadata": {
    "slideshow": {
     "slide_type": "slide"
    }
   },
   "source": [
    "# Machine Learning: General Steps\n",
    "\n",
    "1. Data Partitioning\n",
    "2. Feature Selection\n",
    "3. Model\n",
    "4. Model Assessment"
   ]
  },
  {
   "cell_type": "markdown",
   "metadata": {
    "slideshow": {
     "slide_type": "slide"
    }
   },
   "source": [
    "## Setup"
   ]
  },
  {
   "cell_type": "code",
   "execution_count": 1,
   "metadata": {
    "slideshow": {
     "slide_type": "-"
    }
   },
   "outputs": [],
   "source": [
    "# import ds/plotting packages\n",
    "import numpy as np\n",
    "import pandas as pd\n",
    "import matplotlib.pyplot as plt\n",
    "import seaborn as sns\n",
    "\n",
    "%matplotlib inline\n",
    "\n",
    "# Import nltk package \n",
    "import nltk\n",
    "from nltk.tokenize import word_tokenize\n",
    "from nltk.corpus import stopwords\n",
    "\n",
    "# import random for randomizing\n",
    "import random\n",
    "\n",
    "# ignore warnings\n",
    "import warnings\n",
    "warnings.filterwarnings('ignore')\n",
    "\n",
    "# scikit-learn imports\n",
    "from sklearn.svm import SVC\n",
    "from sklearn.feature_extraction.text import TfidfVectorizer\n",
    "from sklearn.metrics import classification_report, precision_recall_fscore_support, confusion_matrix, ConfusionMatrixDisplay"
   ]
  },
  {
   "cell_type": "code",
   "execution_count": 2,
   "metadata": {
    "slideshow": {
     "slide_type": "fragment"
    }
   },
   "outputs": [],
   "source": [
    "# Uncomment if you need to download the NLTK English tokenizer and the stopwords of all languages\n",
    "# nltk.download('punkt')\n",
    "# nltk.download('stopwords')"
   ]
  },
  {
   "cell_type": "markdown",
   "metadata": {
    "slideshow": {
     "slide_type": "slide"
    }
   },
   "source": [
    "# Example: Class Responses"
   ]
  },
  {
   "cell_type": "markdown",
   "metadata": {
    "slideshow": {
     "slide_type": "slide"
    }
   },
   "source": [
    "## Data"
   ]
  },
  {
   "cell_type": "markdown",
   "metadata": {
    "slideshow": {
     "slide_type": "-"
    }
   },
   "source": [
    "Student responses on COGS 108 Mid-course survey to the following two questions: \n",
    "\n",
    "- What have you enjoyed MOST about COGS 108 so far? Please explain.\n",
    "- What have you enjoyed LEAST about COGS 108 so far? Please explain."
   ]
  },
  {
   "cell_type": "code",
   "execution_count": 3,
   "metadata": {
    "slideshow": {
     "slide_type": "fragment"
    }
   },
   "outputs": [
    {
     "data": {
      "text/html": [
       "<div>\n",
       "<style scoped>\n",
       "    .dataframe tbody tr th:only-of-type {\n",
       "        vertical-align: middle;\n",
       "    }\n",
       "\n",
       "    .dataframe tbody tr th {\n",
       "        vertical-align: top;\n",
       "    }\n",
       "\n",
       "    .dataframe thead th {\n",
       "        text-align: right;\n",
       "    }\n",
       "</style>\n",
       "<table border=\"1\" class=\"dataframe\">\n",
       "  <thead>\n",
       "    <tr style=\"text-align: right;\">\n",
       "      <th></th>\n",
       "      <th>response</th>\n",
       "      <th>most_least</th>\n",
       "      <th>quarter</th>\n",
       "    </tr>\n",
       "  </thead>\n",
       "  <tbody>\n",
       "    <tr>\n",
       "      <th>3454</th>\n",
       "      <td>I can't say that there's bad about this course.</td>\n",
       "      <td>0</td>\n",
       "      <td>sp21</td>\n",
       "    </tr>\n",
       "    <tr>\n",
       "      <th>3455</th>\n",
       "      <td>Aside from the lecture time, which can't be he...</td>\n",
       "      <td>0</td>\n",
       "      <td>sp21</td>\n",
       "    </tr>\n",
       "    <tr>\n",
       "      <th>3456</th>\n",
       "      <td>I don't think this is really an issue at all, ...</td>\n",
       "      <td>0</td>\n",
       "      <td>sp21</td>\n",
       "    </tr>\n",
       "    <tr>\n",
       "      <th>3457</th>\n",
       "      <td>Nothing in particular</td>\n",
       "      <td>0</td>\n",
       "      <td>sp21</td>\n",
       "    </tr>\n",
       "    <tr>\n",
       "      <th>3458</th>\n",
       "      <td>It has been hard making it to lectures in the ...</td>\n",
       "      <td>0</td>\n",
       "      <td>sp21</td>\n",
       "    </tr>\n",
       "  </tbody>\n",
       "</table>\n",
       "</div>"
      ],
      "text/plain": [
       "                                               response  most_least quarter\n",
       "3454    I can't say that there's bad about this course.           0    sp21\n",
       "3455  Aside from the lecture time, which can't be he...           0    sp21\n",
       "3456  I don't think this is really an issue at all, ...           0    sp21\n",
       "3457                              Nothing in particular           0    sp21\n",
       "3458  It has been hard making it to lectures in the ...           0    sp21"
      ]
     },
     "execution_count": 3,
     "metadata": {},
     "output_type": "execute_result"
    }
   ],
   "source": [
    "# read data in\n",
    "# 1 = most; 0 = least\n",
    "df = pd.read_csv('https://raw.githubusercontent.com/shanellis/datasets/master/COGS108_ml.csv', encoding=\"ISO-8859-1\")\n",
    "df.tail()"
   ]
  },
  {
   "cell_type": "code",
   "execution_count": 4,
   "metadata": {
    "slideshow": {
     "slide_type": "-"
    }
   },
   "outputs": [
    {
     "data": {
      "text/html": [
       "<div>\n",
       "<style scoped>\n",
       "    .dataframe tbody tr th:only-of-type {\n",
       "        vertical-align: middle;\n",
       "    }\n",
       "\n",
       "    .dataframe tbody tr th {\n",
       "        vertical-align: top;\n",
       "    }\n",
       "\n",
       "    .dataframe thead th {\n",
       "        text-align: right;\n",
       "    }\n",
       "</style>\n",
       "<table border=\"1\" class=\"dataframe\">\n",
       "  <thead>\n",
       "    <tr style=\"text-align: right;\">\n",
       "      <th></th>\n",
       "      <th>response</th>\n",
       "      <th>most_least</th>\n",
       "      <th>quarter</th>\n",
       "    </tr>\n",
       "  </thead>\n",
       "  <tbody>\n",
       "    <tr>\n",
       "      <th>0</th>\n",
       "      <td>I don't understand some basic aspects of pushi...</td>\n",
       "      <td>0</td>\n",
       "      <td>fa20</td>\n",
       "    </tr>\n",
       "    <tr>\n",
       "      <th>1</th>\n",
       "      <td>Working with my group has been a little frustr...</td>\n",
       "      <td>0</td>\n",
       "      <td>wi21</td>\n",
       "    </tr>\n",
       "    <tr>\n",
       "      <th>2</th>\n",
       "      <td>The consistent amount of assignments</td>\n",
       "      <td>0</td>\n",
       "      <td>wi21</td>\n",
       "    </tr>\n",
       "    <tr>\n",
       "      <th>3</th>\n",
       "      <td>The lectures are honestly super interesting an...</td>\n",
       "      <td>1</td>\n",
       "      <td>sp19</td>\n",
       "    </tr>\n",
       "    <tr>\n",
       "      <th>4</th>\n",
       "      <td>Self-paced lectures</td>\n",
       "      <td>1</td>\n",
       "      <td>fa20</td>\n",
       "    </tr>\n",
       "  </tbody>\n",
       "</table>\n",
       "</div>"
      ],
      "text/plain": [
       "                                            response  most_least quarter\n",
       "0  I don't understand some basic aspects of pushi...           0    fa20\n",
       "1  Working with my group has been a little frustr...           0    wi21\n",
       "2               The consistent amount of assignments           0    wi21\n",
       "3  The lectures are honestly super interesting an...           1    sp19\n",
       "4                                Self-paced lectures           1    fa20"
      ]
     },
     "execution_count": 4,
     "metadata": {},
     "output_type": "execute_result"
    }
   ],
   "source": [
    "# randomly sort data frame\n",
    "df = df.sample(frac=1, random_state=200).reset_index(drop=True)\n",
    "df.head()"
   ]
  },
  {
   "cell_type": "markdown",
   "metadata": {
    "slideshow": {
     "slide_type": "fragment"
    }
   },
   "source": [
    "Randomly sorted data frame:\n",
    "- for selection of training and test set\n",
    "- will be approximately balanced between outcomes in each"
   ]
  },
  {
   "cell_type": "code",
   "execution_count": 5,
   "metadata": {
    "slideshow": {
     "slide_type": "fragment"
    }
   },
   "outputs": [
    {
     "data": {
      "text/plain": [
       "(3459, 3)"
      ]
     },
     "execution_count": 5,
     "metadata": {},
     "output_type": "execute_result"
    }
   ],
   "source": [
    "# see how much data we're working with\n",
    "df.shape"
   ]
  },
  {
   "cell_type": "code",
   "execution_count": 6,
   "metadata": {},
   "outputs": [
    {
     "data": {
      "text/plain": [
       "quarter\n",
       "fa20    551\n",
       "sp19    631\n",
       "sp20    705\n",
       "sp21    466\n",
       "wi20    491\n",
       "wi21    615\n",
       "Name: response, dtype: int64"
      ]
     },
     "execution_count": 6,
     "metadata": {},
     "output_type": "execute_result"
    }
   ],
   "source": [
    "df.groupby('quarter')['response'].count()"
   ]
  },
  {
   "cell_type": "markdown",
   "metadata": {
    "slideshow": {
     "slide_type": "slide"
    }
   },
   "source": [
    "### Train,  Validate, Test\n",
    "\n",
    "- Training set is what we use for creating the model\n",
    "- Validation set is what we use for fine tuning the model -- checking which hyper-parameters are best\n",
    "- Test set is what we use to figure out how good the model will do next year with new data arriving\n",
    "\n",
    "#### Method (1) - Manual split, split by quarter\n",
    "\n",
    "- We'll test the model on one quarter's responses\n",
    "- We'll validate the model on another quarter's responses\n",
    "- We'll train the model on everything else\n",
    "\n",
    "\n",
    "\n"
   ]
  },
  {
   "cell_type": "code",
   "execution_count": 7,
   "metadata": {
    "slideshow": {
     "slide_type": "fragment"
    }
   },
   "outputs": [],
   "source": [
    "\n",
    "\n",
    "## Validation\n",
    "df_validation = df[df['quarter']=='sp20']\n",
    "              \n",
    "## Test\n",
    "df_test = df[df['quarter']=='sp19']\n",
    "\n",
    "## Train\n",
    "df_train = df[~df['quarter'].isin(['sp19','sp20'])]\n"
   ]
  },
  {
   "cell_type": "code",
   "execution_count": 8,
   "metadata": {
    "slideshow": {
     "slide_type": "fragment"
    }
   },
   "outputs": [
    {
     "name": "stdout",
     "output_type": "stream",
     "text": [
      "(2123, 3) (705, 3) (631, 3)\n"
     ]
    }
   ],
   "source": [
    "print(df_train.shape, df_validation.shape, df_test.shape)"
   ]
  },
  {
   "cell_type": "markdown",
   "metadata": {
    "slideshow": {
     "slide_type": "-"
    }
   },
   "source": []
  },
  {
   "cell_type": "markdown",
   "metadata": {
    "slideshow": {
     "slide_type": "slide"
    }
   },
   "source": [
    "#### Clicker Question #1\n",
    "\n",
    "How well do you think we will be able to predict whether a student comment is a response to what they liked most vs what they liked least in our ***training*** dataset?\n",
    "\n",
    "- A) Accuracy ~0%\n",
    "- B) Accuracy ~25%\n",
    "- C) Accuracy ~50%\n",
    "- D) Accuracy ~75%\n",
    "- E) Accuracy ~100%"
   ]
  },
  {
   "cell_type": "markdown",
   "metadata": {
    "slideshow": {
     "slide_type": "slide"
    }
   },
   "source": [
    "#### Clicker Question #2\n",
    "\n",
    "How well do you think we will be able to predict whether a student comment is a response to what they liked most vs what they liked least in our ***validation*** dataset?\n",
    "\n",
    "- A) Accuracy ~0%\n",
    "- B) Accuracy ~25%\n",
    "- C) Accuracy ~50%\n",
    "- D) Accuracy ~75%\n",
    "- E) Accuracy ~100%"
   ]
  },
  {
   "cell_type": "markdown",
   "metadata": {},
   "source": [
    "#### Thinking this through\n",
    "\n",
    "Is this a good idea to split up by quarter?  What could happen here?"
   ]
  },
  {
   "cell_type": "markdown",
   "metadata": {},
   "source": [
    "#### Method (2) - sklearn split, randomize the data\n",
    "- Training set 60% of the data randomly mixed across quarters\n",
    "- Validation set 20% of the data randomly mixed across quarters\n",
    "- Test set 20% of the data randomly mixed across quarters"
   ]
  },
  {
   "cell_type": "code",
   "execution_count": 9,
   "metadata": {},
   "outputs": [
    {
     "name": "stdout",
     "output_type": "stream",
     "text": [
      "(2075,) (692,) (692,)\n"
     ]
    }
   ],
   "source": [
    "from sklearn.model_selection import train_test_split\n",
    "\n",
    "X_trainvalid, X_test, Y_trainvalid, Y_test = train_test_split(\n",
    "    df['response'], df['most_least'], test_size=0.2, random_state=42)\n",
    "\n",
    "X_train, X_valid, Y_train, Y_valid = train_test_split(\n",
    "    X_trainvalid, Y_trainvalid, test_size=0.25\n",
    "\n",
    ")\n",
    "\n",
    "print(X_train.shape, X_valid.shape, X_test.shape)"
   ]
  },
  {
   "cell_type": "markdown",
   "metadata": {
    "slideshow": {
     "slide_type": "slide"
    }
   },
   "source": [
    "## Prediction Task: \n",
    "\n",
    "**Classify text from students as 'most liked' or 'least liked'**"
   ]
  },
  {
   "cell_type": "markdown",
   "metadata": {
    "slideshow": {
     "slide_type": "-"
    }
   },
   "source": [
    "#### 11 Steps to Prediction:\n",
    "\n",
    "1. Specify parameters for TF-IDF calculation\n",
    "2. Calculate TF-IDF from text input (predictors)\n",
    "3. Extract most or least (outcome)\n",
    "4. Specify how data will be partitioned\n",
    "5. Partition the data\n",
    "6. Train model\n",
    "7. Predict in training\n",
    "8. Predict in testing\n",
    "9. Assess accuracy in training\n",
    "10. Assess accuracy in test set\n",
    "11. IF NEEDED: Model selection + test process that replaces steps 6-10 "
   ]
  },
  {
   "cell_type": "markdown",
   "metadata": {
    "slideshow": {
     "slide_type": "slide"
    }
   },
   "source": [
    "### Data Processing"
   ]
  },
  {
   "cell_type": "markdown",
   "metadata": {
    "slideshow": {
     "slide_type": "fragment"
    }
   },
   "source": [
    "Step 1: Determine how you'll convert a collection of raw documents to a matrix of TF-IDF features."
   ]
  },
  {
   "cell_type": "code",
   "execution_count": 10,
   "metadata": {
    "slideshow": {
     "slide_type": "fragment"
    }
   },
   "outputs": [],
   "source": [
    "# Create vectorizer & specify parameters\n",
    "tfidf = TfidfVectorizer(sublinear_tf=True, #apply sublinear TF scaling\n",
    "                        analyzer='word',   #specify tokenizer\n",
    "                        max_features=500, # specify max # of features to include\n",
    "                        tokenizer=word_tokenize)"
   ]
  },
  {
   "cell_type": "markdown",
   "metadata": {
    "slideshow": {
     "slide_type": "notes"
    }
   },
   "source": [
    "* sublinear TF scaling - replaces term frequency (TF) with $1 + log(TF)$"
   ]
  },
  {
   "cell_type": "markdown",
   "metadata": {
    "slideshow": {
     "slide_type": "fragment"
    }
   },
   "source": [
    "Step 2: Generate matrix of TF-IDF features."
   ]
  },
  {
   "cell_type": "code",
   "execution_count": 11,
   "metadata": {
    "slideshow": {
     "slide_type": "fragment"
    }
   },
   "outputs": [
    {
     "name": "stdout",
     "output_type": "stream",
     "text": [
      "(2075, 500)\n",
      "min:  0.0 \n",
      " mean:  0.006929570278815825 \n",
      " max:  1.0\n"
     ]
    }
   ],
   "source": [
    "# Learn vocabulary and idf, return term-document matrix.\n",
    "# return an array;our predictor\n",
    "tfidf_X = tfidf.fit_transform(X_train).toarray()\n",
    "\n",
    "# take a look at the output\n",
    "print(tfidf_X.shape)\n",
    "\n",
    "print(\"min: \" , np.min(tfidf_X), '\\n',\n",
    "      \"mean: \", np.mean(tfidf_X), '\\n',\n",
    "      \"max: \",  np.max(tfidf_X))"
   ]
  },
  {
   "cell_type": "code",
   "execution_count": 12,
   "metadata": {},
   "outputs": [
    {
     "data": {
      "text/plain": [
       "array([[0., 0., 0., ..., 0., 0., 0.],\n",
       "       [0., 0., 0., ..., 0., 0., 0.],\n",
       "       [0., 0., 0., ..., 0., 0., 0.],\n",
       "       ...,\n",
       "       [0., 0., 0., ..., 0., 0., 0.],\n",
       "       [0., 0., 0., ..., 0., 0., 0.],\n",
       "       [0., 0., 0., ..., 0., 0., 0.]])"
      ]
     },
     "execution_count": 12,
     "metadata": {},
     "output_type": "execute_result"
    }
   ],
   "source": [
    "tfidf_X"
   ]
  },
  {
   "cell_type": "code",
   "execution_count": 18,
   "metadata": {
    "slideshow": {
     "slide_type": "fragment"
    }
   },
   "outputs": [
    {
     "data": {
      "text/html": [
       "<div>\n",
       "<style scoped>\n",
       "    .dataframe tbody tr th:only-of-type {\n",
       "        vertical-align: middle;\n",
       "    }\n",
       "\n",
       "    .dataframe tbody tr th {\n",
       "        vertical-align: top;\n",
       "    }\n",
       "\n",
       "    .dataframe thead th {\n",
       "        text-align: right;\n",
       "    }\n",
       "</style>\n",
       "<table border=\"1\" class=\"dataframe\">\n",
       "  <thead>\n",
       "    <tr style=\"text-align: right;\">\n",
       "      <th></th>\n",
       "      <th>token</th>\n",
       "      <th>weight</th>\n",
       "    </tr>\n",
       "  </thead>\n",
       "  <tbody>\n",
       "    <tr>\n",
       "      <th>394</th>\n",
       "      <td>step</td>\n",
       "      <td>6.558757</td>\n",
       "    </tr>\n",
       "    <tr>\n",
       "      <th>419</th>\n",
       "      <td>tests</td>\n",
       "      <td>6.558757</td>\n",
       "    </tr>\n",
       "    <tr>\n",
       "      <th>332</th>\n",
       "      <td>per</td>\n",
       "      <td>6.440974</td>\n",
       "    </tr>\n",
       "    <tr>\n",
       "      <th>177</th>\n",
       "      <td>forget</td>\n",
       "      <td>6.440974</td>\n",
       "    </tr>\n",
       "    <tr>\n",
       "      <th>287</th>\n",
       "      <td>minute</td>\n",
       "      <td>6.335613</td>\n",
       "    </tr>\n",
       "    <tr>\n",
       "      <th>...</th>\n",
       "      <td>...</td>\n",
       "      <td>...</td>\n",
       "    </tr>\n",
       "    <tr>\n",
       "      <th>44</th>\n",
       "      <td>and</td>\n",
       "      <td>1.952337</td>\n",
       "    </tr>\n",
       "    <tr>\n",
       "      <th>440</th>\n",
       "      <td>to</td>\n",
       "      <td>1.874313</td>\n",
       "    </tr>\n",
       "    <tr>\n",
       "      <th>226</th>\n",
       "      <td>i</td>\n",
       "      <td>1.710640</td>\n",
       "    </tr>\n",
       "    <tr>\n",
       "      <th>13</th>\n",
       "      <td>.</td>\n",
       "      <td>1.525871</td>\n",
       "    </tr>\n",
       "    <tr>\n",
       "      <th>422</th>\n",
       "      <td>the</td>\n",
       "      <td>1.438520</td>\n",
       "    </tr>\n",
       "  </tbody>\n",
       "</table>\n",
       "<p>500 rows × 2 columns</p>\n",
       "</div>"
      ],
      "text/plain": [
       "      token    weight\n",
       "394    step  6.558757\n",
       "419   tests  6.558757\n",
       "332     per  6.440974\n",
       "177  forget  6.440974\n",
       "287  minute  6.335613\n",
       "..      ...       ...\n",
       "44      and  1.952337\n",
       "440      to  1.874313\n",
       "226       i  1.710640\n",
       "13        .  1.525871\n",
       "422     the  1.438520\n",
       "\n",
       "[500 rows x 2 columns]"
      ]
     },
     "execution_count": 18,
     "metadata": {},
     "output_type": "execute_result"
    }
   ],
   "source": [
    "## get IDF to visualize\n",
    "idf = tfidf.idf_\n",
    "rr = dict(zip(tfidf.fit(X_train).get_feature_names(), idf))\n",
    "\n",
    "token_weight = pd.DataFrame.from_dict(rr, orient='index').reset_index()\n",
    "token_weight.columns=('token','weight')\n",
    "token_weight = token_weight.sort_values(by='weight', ascending=False)\n",
    "token_weight"
   ]
  },
  {
   "cell_type": "code",
   "execution_count": 19,
   "metadata": {
    "slideshow": {
     "slide_type": "fragment"
    }
   },
   "outputs": [
    {
     "data": {
      "image/png": "[encoded data removed]",
      "text/plain": [
       "<Figure size 1500x500 with 1 Axes>"
      ]
     },
     "metadata": {},
     "output_type": "display_data"
    }
   ],
   "source": [
    "sns.barplot(x='token', \n",
    "            y='weight', \n",
    "            data=token_weight[0:10], \n",
    "            color=\"gray\")            \n",
    "plt.title(\"Inverse Document Frequency(IDF) per token\")\n",
    "fig = plt.gcf()\n",
    "fig.set_size_inches(15,5);"
   ]
  },
  {
   "cell_type": "markdown",
   "metadata": {
    "slideshow": {
     "slide_type": "fragment"
    }
   },
   "source": [
    "Step 3: Extract outcome variable"
   ]
  },
  {
   "cell_type": "code",
   "execution_count": 20,
   "metadata": {
    "slideshow": {
     "slide_type": "fragment"
    }
   },
   "outputs": [
    {
     "data": {
      "text/plain": [
       "array([0, 1, 0, ..., 0, 0, 1])"
      ]
     },
     "execution_count": 20,
     "metadata": {},
     "output_type": "execute_result"
    }
   ],
   "source": [
    "# specify outcome variable\n",
    "tfidf_Y = np.array(Y_train)\n",
    "tfidf_Y"
   ]
  },
  {
   "cell_type": "code",
   "execution_count": 21,
   "metadata": {},
   "outputs": [
    {
     "data": {
      "text/plain": [
       "array([[0., 0., 0., ..., 0., 0., 0.],\n",
       "       [0., 0., 0., ..., 0., 0., 0.],\n",
       "       [0., 0., 0., ..., 0., 0., 0.],\n",
       "       ...,\n",
       "       [0., 0., 0., ..., 0., 0., 0.],\n",
       "       [0., 0., 0., ..., 0., 0., 0.],\n",
       "       [0., 0., 0., ..., 0., 0., 0.]])"
      ]
     },
     "execution_count": 21,
     "metadata": {},
     "output_type": "execute_result"
    }
   ],
   "source": [
    "tfidf_X"
   ]
  },
  {
   "cell_type": "code",
   "execution_count": 22,
   "metadata": {},
   "outputs": [
    {
     "data": {
      "text/plain": [
       "((2075, 500), (2075,))"
      ]
     },
     "execution_count": 22,
     "metadata": {},
     "output_type": "execute_result"
    }
   ],
   "source": [
    "tfidf_X.shape, tfidf_Y.shape"
   ]
  },
  {
   "cell_type": "markdown",
   "metadata": {
    "slideshow": {
     "slide_type": "fragment"
    }
   },
   "source": [
    "#### Clicker Question #3\n",
    "\n",
    "Looking at the code above and thinking about what we've done so far in this analysis, what is stored in `tfidf_Y`?\n",
    "\n",
    "- A) predictor variable - training data\n",
    "- B) outcome variable - training data\n",
    "- C) predictor variable - test data\n",
    "- D) outcome variable - test data\n",
    "- E) validation DataFrame"
   ]
  },
  {
   "cell_type": "markdown",
   "metadata": {
    "slideshow": {
     "slide_type": "slide"
    }
   },
   "source": [
    "# Avoiding data leakage with feature selection\n",
    "\n",
    "NEVER do feature selection or feature transformation fitting on ALL of the data.\n",
    "\n",
    "You don't want information about your validation and test set inside your training set.\n",
    "\n",
    "If you fit your features on the whole dataset you have implictly told the training set information about the vocuabulary and frequency of things that aren't in the training set! BAD!"
   ]
  },
  {
   "cell_type": "code",
   "execution_count": 23,
   "metadata": {},
   "outputs": [],
   "source": [
    "tfidf_train = tfidf.fit_transform(X_train)\n",
    "tfidf_valid = tfidf.transform(X_valid)\n",
    "tfidf_test = tfidf.transform(X_test)"
   ]
  },
  {
   "cell_type": "code",
   "execution_count": 24,
   "metadata": {},
   "outputs": [
    {
     "data": {
      "text/plain": [
       "((2075, 500), (692, 500), (692, 500))"
      ]
     },
     "execution_count": 24,
     "metadata": {},
     "output_type": "execute_result"
    }
   ],
   "source": [
    "tfidf_train.shape, tfidf_valid.shape, tfidf_test.shape"
   ]
  },
  {
   "cell_type": "markdown",
   "metadata": {
    "slideshow": {
     "slide_type": "slide"
    }
   },
   "source": [
    "## Model"
   ]
  },
  {
   "cell_type": "markdown",
   "metadata": {
    "slideshow": {
     "slide_type": "fragment"
    }
   },
   "source": [
    "### SVM: Support Vector Machines\n",
    "\n",
    "- simple & interpretable machine learning model\n",
    "- based in linear regression\n",
    "- classification task\n",
    "- supervized\n",
    "    - input: labeled training data\n",
    "    - model determines hyperplane that best discriminates between categories"
   ]
  },
  {
   "cell_type": "markdown",
   "metadata": {
    "slideshow": {
     "slide_type": "slide"
    }
   },
   "source": [
    "### SVM: Tuning Parameters\n",
    "- **regularization** parameter\n",
    "    - can determine how this line is drawn\n",
    "    - can increase accuracy of prediction\n",
    "    - can lead to overfitting of the data\n",
    "- **kernel** parameter\n",
    "    - specifies how to model & transform data\n",
    "    "
   ]
  },
  {
   "cell_type": "markdown",
   "metadata": {
    "slideshow": {
     "slide_type": "notes"
    }
   },
   "source": [
    "For more reading on SVMs using `sklearn`: https://scikit-learn.org/stable/modules/svm.html\n",
    "\n",
    "OR just scroll to the very end of this notebook where we get a bit crazy with them "
   ]
  },
  {
   "cell_type": "markdown",
   "metadata": {
    "slideshow": {
     "slide_type": "slide"
    }
   },
   "source": [
    "### Model Generation\n",
    "    "
   ]
  },
  {
   "cell_type": "markdown",
   "metadata": {
    "slideshow": {
     "slide_type": "fragment"
    }
   },
   "source": [
    "Step 6: Generate and train the model."
   ]
  },
  {
   "cell_type": "code",
   "execution_count": 25,
   "metadata": {
    "slideshow": {
     "slide_type": "fragment"
    }
   },
   "outputs": [],
   "source": [
    "# uncomment to read documentation for model\n",
    "SVC?"
   ]
  },
  {
   "cell_type": "code",
   "execution_count": 26,
   "metadata": {
    "slideshow": {
     "slide_type": "fragment"
    }
   },
   "outputs": [
    {
     "data": {
      "text/plain": [
       "sklearn.svm._classes.SVC"
      ]
     },
     "execution_count": 26,
     "metadata": {},
     "output_type": "execute_result"
    }
   ],
   "source": [
    "# function we'll use to run the model\n",
    "\n",
    "svm_model = SVC(kernel='linear')\n",
    "type(svm_model)"
   ]
  },
  {
   "cell_type": "code",
   "execution_count": 27,
   "metadata": {
    "slideshow": {
     "slide_type": "fragment"
    }
   },
   "outputs": [],
   "source": [
    "# train model\n",
    "svm_model = svm_model.fit(tfidf_train, Y_train)\n"
   ]
  },
  {
   "cell_type": "code",
   "execution_count": 28,
   "metadata": {},
   "outputs": [
    {
     "data": {
      "text/plain": [
       "matrix([[ 6.54323375e-01, -1.92733128e-01,  5.18243338e-01,\n",
       "         -2.64506222e-01, -6.67275003e-01, -8.27289201e-01,\n",
       "          3.19862803e-01, -1.71244565e-01,  2.06930492e-01,\n",
       "         -1.15659832e+00,  3.34954593e-01, -3.84160247e-01,\n",
       "          1.48308333e-01,  7.37714923e-01, -8.20993423e-01,\n",
       "         -1.44050777e-01,  6.74582603e-01,  1.73278702e-01,\n",
       "         -1.70365266e+00, -1.02260423e+00, -4.74983515e-01,\n",
       "          5.41178350e-01, -2.64506222e-01, -3.17210076e-01,\n",
       "          2.26194293e-01, -5.71429712e-02,  1.44782169e+00,\n",
       "          3.36359429e-01,  4.39691991e-01,  7.64786828e-01,\n",
       "          1.97114176e-01, -1.00670098e-01,  1.11863216e+00,\n",
       "          5.09903093e-01, -9.59245147e-01,  1.66776611e+00,\n",
       "         -7.71523872e-01, -2.25663901e-01,  1.95249898e-01,\n",
       "         -3.45902429e-01, -9.80165811e-01, -2.26029869e-01,\n",
       "          1.31698074e+00,  2.13321811e-01,  1.13406479e+00,\n",
       "          4.32132610e-01, -6.46289301e-01, -1.09556921e-01,\n",
       "         -7.45912223e-01,  5.48680295e-01,  9.57386932e-01,\n",
       "          5.12664347e-01, -4.35080282e-02,  2.45706202e-01,\n",
       "          3.65048879e-01,  8.08616486e-01, -1.05019670e-01,\n",
       "          6.51562213e-01, -1.66549938e-01,  3.46159773e-02,\n",
       "          3.96883514e-01,  1.05903326e+00, -5.10989946e-02,\n",
       "         -6.73406153e-01, -3.86706034e-01,  2.84986729e-01,\n",
       "         -2.50341890e-01,  7.16809740e-01,  3.59439636e-01,\n",
       "          1.87661232e-01,  5.48560806e-01, -1.86636456e+00,\n",
       "         -7.76277587e-01, -1.08213678e+00,  5.07084061e-01,\n",
       "         -9.79315709e-03,  3.40802117e-01, -1.52785372e-01,\n",
       "         -6.90636107e-01,  3.82795471e-01, -2.40202351e+00,\n",
       "          7.36214817e-01,  8.39275804e-01, -1.87508899e+00,\n",
       "         -3.34869377e-01,  5.18673453e-01,  8.14519431e-01,\n",
       "         -9.40652509e-01,  1.14078542e+00,  5.51464795e-01,\n",
       "         -2.12767923e-01,  6.78048634e-01,  1.76847046e-01,\n",
       "          1.63095776e+00,  8.63139116e-01,  5.20654702e-01,\n",
       "         -4.84720040e-01, -2.06944026e-01, -6.02032342e-01,\n",
       "          9.90441419e-02,  4.20918332e-01,  1.33607259e+00,\n",
       "          7.66998030e-01, -8.87602200e-01, -1.25981301e+00,\n",
       "          2.84580148e-01,  1.35405638e+00, -1.17184094e-01,\n",
       "         -7.07370859e-03, -2.90264675e-01,  4.00971035e-01,\n",
       "          0.00000000e+00, -1.82559291e-01,  2.06703357e+00,\n",
       "          8.43152772e-02,  3.98267071e-01, -9.01923356e-01,\n",
       "         -9.76822204e-01, -1.02596829e+00, -3.00861357e-01,\n",
       "          2.90078550e-01,  2.04988129e-01, -1.99115046e+00,\n",
       "          4.70927211e-01,  2.10436876e-01, -1.22942940e+00,\n",
       "         -9.80326591e-01, -1.11704293e-01,  1.36791639e-01,\n",
       "         -1.59952039e-01,  1.82711248e-01, -8.70943273e-01,\n",
       "         -7.09739398e-01, -6.64808507e-01, -8.64223942e-01,\n",
       "          3.53629000e-01,  2.50589206e-01,  1.28150753e+00,\n",
       "          2.75026121e-01,  2.23569128e-01,  2.58162299e-01,\n",
       "          2.10106648e+00,  3.61623608e-01,  2.99202086e+00,\n",
       "          4.70109745e-02, -1.00278274e+00, -2.81102628e-01,\n",
       "          1.09027216e-02,  3.15492987e-01,  2.57692728e-01,\n",
       "         -1.75185302e-01, -4.86281212e-01, -6.45960826e-01,\n",
       "         -5.51059061e-01, -5.16752054e-01,  6.95429931e-01,\n",
       "          7.91262360e-02, -5.42547749e-01, -2.20085606e-01,\n",
       "         -2.92326871e-01, -1.04362952e+00, -8.15071646e-01,\n",
       "         -5.64059830e-01, -3.50875441e-01, -1.83992638e+00,\n",
       "          1.72028392e-01, -9.25932696e-01, -6.30940639e-01,\n",
       "         -1.58389767e-01, -7.99237651e-01, -1.02642433e+00,\n",
       "          9.22033896e-02,  6.42013140e-01,  1.41082743e+00,\n",
       "          2.59365031e-03,  5.49490646e-01, -4.24836423e-01,\n",
       "         -2.73146169e-01,  7.13895482e-01,  4.19315045e-01,\n",
       "          7.37246624e-01,  1.10982624e+00,  3.01911710e-01,\n",
       "          1.52108822e-01, -9.99146631e-01,  2.18204420e+00,\n",
       "          9.23914303e-02,  6.51131501e-01, -6.68236382e-01,\n",
       "         -8.30149195e-01,  1.19411262e+00, -9.40379776e-01,\n",
       "         -2.45840413e-01, -2.36422030e-02,  1.15582684e+00,\n",
       "         -9.59673224e-02, -8.26519726e-01, -8.67899141e-02,\n",
       "         -5.64102742e-01,  2.96820576e-01, -2.44641960e-02,\n",
       "         -5.31106198e-01, -1.00680352e+00,  8.87357568e-01,\n",
       "          7.53364616e-01, -7.54394326e-01, -7.48239256e-01,\n",
       "          5.54218597e-01, -2.38536287e-01, -3.38092223e-01,\n",
       "          1.69931623e+00,  4.37310629e-01, -2.21560915e+00,\n",
       "         -6.11104382e-01, -2.61905844e-01, -3.38329086e-03,\n",
       "          1.39971282e-02,  6.44266236e-01,  6.20212104e-01,\n",
       "          1.75204915e+00, -8.28886686e-02, -4.89126524e-01,\n",
       "         -3.52843707e-01,  1.56418348e+00, -9.36590451e-01,\n",
       "          2.26856607e-01,  5.94416479e-01,  8.33544922e-01,\n",
       "          6.56955289e-01, -1.27112837e+00,  1.61215194e-01,\n",
       "          4.55682805e-01, -2.53976140e-01,  4.85177414e-01,\n",
       "          2.25658613e-04, -2.13477380e-01,  2.28139041e-01,\n",
       "          1.12411802e+00,  2.43182188e+00,  5.51349342e-01,\n",
       "         -1.24449869e+00,  1.01859284e-01,  2.11929307e-01,\n",
       "          9.25258363e-01, -1.10457149e+00, -1.10464873e-01,\n",
       "         -1.00950675e+00, -2.13249807e-01,  8.92821549e-01,\n",
       "          3.40423089e-01,  2.86730752e-01, -1.55534987e+00,\n",
       "         -2.71896375e-01, -2.68390425e-02, -9.51595394e-01,\n",
       "          1.10077858e+00,  9.20131830e-01,  1.86819713e+00,\n",
       "         -2.94951381e+00,  6.14685250e-01,  1.05975416e+00,\n",
       "         -3.78397065e-01,  7.35270937e-01,  1.60050423e-01,\n",
       "          1.00738931e+00, -2.23187035e-01, -2.13404724e+00,\n",
       "         -1.53614299e+00, -9.00104628e-01, -7.61777825e-01,\n",
       "         -3.94560494e-03, -2.43599830e-01,  2.62293207e-01,\n",
       "          1.09451059e+00, -5.37222241e-01, -1.76007122e-01,\n",
       "          8.58826476e-01,  3.65570879e-02, -2.53127863e-01,\n",
       "          8.67023703e-01,  2.74580839e-01, -2.72720692e-01,\n",
       "         -2.84657210e-01,  1.25616442e+00,  1.89313648e-02,\n",
       "         -2.97092569e-01,  1.06075893e+00,  0.00000000e+00,\n",
       "         -5.62573341e-01, -7.20240417e-01, -7.05769742e-01,\n",
       "          8.40781522e-01, -9.54011380e-01, -4.12021943e-01,\n",
       "          2.10302319e-01, -5.08030849e-01, -3.20146720e+00,\n",
       "         -2.12488695e-01,  3.21177555e-01,  2.86093433e-01,\n",
       "          1.71197906e+00, -1.17955109e+00, -9.94021851e-01,\n",
       "         -2.53188220e+00,  5.90821602e-01,  2.41138205e-01,\n",
       "         -6.25337581e-01, -1.81449343e+00, -6.70631272e-01,\n",
       "         -5.33158692e-01, -4.07444375e-01,  2.26894239e-01,\n",
       "         -4.14498028e-01, -2.44273805e-01, -4.66742572e-01,\n",
       "         -1.07543903e+00, -2.34612020e-01, -8.62878595e-01,\n",
       "          3.10283475e-01,  7.40401921e-03, -2.84386498e-01,\n",
       "          1.80711523e-03,  1.81262662e-01,  6.95849747e-01,\n",
       "         -5.04860451e-01,  1.05240389e+00,  5.32464659e-02,\n",
       "          4.12843374e-01,  9.83320534e-01,  3.99152358e-01,\n",
       "         -7.33088139e-01, -6.30973608e-02, -5.34787946e-01,\n",
       "         -1.22223402e+00, -1.76902330e-01, -9.24022931e-01,\n",
       "          2.24870402e-01,  1.52477101e+00,  1.01028032e+00,\n",
       "         -7.69517334e-01, -1.41609444e+00, -3.06115432e-01,\n",
       "         -4.30455231e-01, -5.82551018e-01,  1.30986847e+00,\n",
       "          1.06720328e+00, -9.40354620e-01, -6.21696124e-01,\n",
       "         -5.39847902e-01,  8.62426513e-02,  9.36763360e-01,\n",
       "          2.19492887e-01, -4.28080429e-01, -3.87199679e-01,\n",
       "         -1.99352906e-01, -1.96943185e-01, -1.46606849e+00,\n",
       "         -1.86935571e+00, -4.37535178e-01,  1.92822495e-01,\n",
       "          7.57165554e-01, -2.93089732e-02, -1.93369903e-01,\n",
       "         -5.50522404e-01,  5.25092364e-02, -3.97557686e-01,\n",
       "         -1.93023233e-01,  3.22583501e-01, -3.69802975e-01,\n",
       "          6.35652957e-01, -4.22877138e-01,  1.31319342e+00,\n",
       "          3.02444790e-01, -5.77298561e-01,  1.74536019e-01,\n",
       "          3.49997782e-01, -6.84673024e-01, -6.64075822e-01,\n",
       "         -9.88670309e-02,  5.41419974e-01,  6.74061840e-01,\n",
       "         -4.65077054e-01,  4.18137767e-01,  2.88149367e-01,\n",
       "          3.08878794e-01,  4.52507575e-01, -1.95835980e+00,\n",
       "          1.09133815e-01, -2.11317194e+00, -4.65606680e-01,\n",
       "         -1.57798474e-01, -4.25881027e-01, -8.94873513e-01,\n",
       "         -7.39714804e-01,  4.43138854e-01, -1.19511206e+00,\n",
       "          2.56004672e-01,  8.80349570e-01,  6.39793181e-01,\n",
       "          9.21435033e-01, -1.04451812e+00, -3.96962165e-01,\n",
       "          4.46424429e-01,  8.68556285e-02, -6.43664943e-01,\n",
       "          8.96302401e-01, -5.52050833e-02, -2.16077297e+00,\n",
       "          5.07669702e-01,  1.60238526e-01, -1.10325636e+00,\n",
       "         -2.62167965e-01,  5.51025040e-01,  4.61156563e-01,\n",
       "          4.06811430e-01, -2.18248642e-01, -1.19067398e-01,\n",
       "         -1.16902782e+00,  6.58237368e-01, -2.46266699e-02,\n",
       "         -3.56902819e-01,  1.04637441e-01,  7.44633034e-01,\n",
       "         -1.77039909e-01,  9.97107601e-03,  2.74226629e-01,\n",
       "         -1.49733353e+00,  2.40795055e-02,  7.80408668e-02,\n",
       "         -4.10620384e-01,  9.71789479e-02, -9.69561994e-01,\n",
       "          2.73007000e-01,  2.19907715e-02,  7.22532791e-01,\n",
       "         -4.75366323e-01,  4.56972433e-01, -7.29035490e-02,\n",
       "         -1.02658772e+00, -1.20003210e+00,  2.24322979e-01,\n",
       "          6.05906387e-02, -1.57146579e+00,  1.20350107e-01,\n",
       "          4.21598915e-01,  1.67577715e-01,  7.22131598e-01,\n",
       "          1.71936728e-01, -6.13208611e-01, -1.31154560e+00,\n",
       "         -2.49246317e-01, -1.05864231e+00,  1.64362997e-01,\n",
       "          1.72619766e-02, -9.30412349e-01,  6.30863728e-01,\n",
       "         -4.36586298e-01,  6.42106354e-01,  1.40020573e+00,\n",
       "          7.64295339e-01, -1.11200361e+00,  5.93678355e-02,\n",
       "          5.08597072e-01,  9.77939368e-02,  1.19563835e+00,\n",
       "          3.80903843e-01,  1.06535425e+00, -3.46858913e-01,\n",
       "          8.97753909e-01, -6.67163039e-01,  7.22704036e-01,\n",
       "          8.72118799e-01, -6.12647926e-01,  1.65318116e-01,\n",
       "         -2.40260521e-01,  2.40642525e-01, -6.80689515e-01,\n",
       "          4.34614368e-01,  7.27010151e-01, -3.55407543e-01,\n",
       "          7.10857570e-01,  2.77274258e-01,  3.54699926e-01,\n",
       "          1.03390573e+00, -3.04887723e-02, -1.55359222e-01,\n",
       "         -8.55312267e-01, -3.12536024e-01, -1.35230760e+00,\n",
       "          8.92490118e-01, -8.50296871e-01,  8.12035384e-01,\n",
       "          1.10242339e+00,  1.26019426e-01, -2.00310185e+00,\n",
       "          1.42390464e-01, -4.96366741e-01,  2.59696148e-01,\n",
       "          2.56125550e-01,  2.63152991e-01]])"
      ]
     },
     "execution_count": 28,
     "metadata": {},
     "output_type": "execute_result"
    }
   ],
   "source": [
    "svm_model.coef_.todense()"
   ]
  },
  {
   "cell_type": "markdown",
   "metadata": {
    "slideshow": {
     "slide_type": "fragment"
    }
   },
   "source": [
    "### Training Data"
   ]
  },
  {
   "cell_type": "markdown",
   "metadata": {
    "slideshow": {
     "slide_type": "fragment"
    }
   },
   "source": [
    "Step 7: Predict in the training data"
   ]
  },
  {
   "cell_type": "code",
   "execution_count": 29,
   "metadata": {
    "slideshow": {
     "slide_type": "fragment"
    }
   },
   "outputs": [
    {
     "name": "stdout",
     "output_type": "stream",
     "text": [
      "[0 1 0 0 0]\n",
      "994     0\n",
      "2947    1\n",
      "2765    0\n",
      "2430    0\n",
      "636     0\n",
      "Name: most_least, dtype: int64\n"
     ]
    }
   ],
   "source": [
    "# predict on training\n",
    "df_predicted_train_Y = svm_model.predict(tfidf_train)\n",
    "\n",
    "print(df_predicted_train_Y[0:5])\n",
    "print(Y_train[0:5])"
   ]
  },
  {
   "cell_type": "code",
   "execution_count": 30,
   "metadata": {
    "slideshow": {
     "slide_type": "fragment"
    }
   },
   "outputs": [
    {
     "data": {
      "text/plain": [
       "1    1080\n",
       "0     995\n",
       "dtype: int64"
      ]
     },
     "execution_count": 30,
     "metadata": {},
     "output_type": "execute_result"
    }
   ],
   "source": [
    "# see how many were predicted most vs. least\n",
    "pd.Series(df_predicted_train_Y).value_counts()"
   ]
  },
  {
   "cell_type": "markdown",
   "metadata": {
    "slideshow": {
     "slide_type": "fragment"
    }
   },
   "source": [
    "### Testing Data"
   ]
  },
  {
   "cell_type": "markdown",
   "metadata": {
    "slideshow": {
     "slide_type": "-"
    }
   },
   "source": [
    "Step 8: Predict in the testing data"
   ]
  },
  {
   "cell_type": "code",
   "execution_count": 31,
   "metadata": {
    "slideshow": {
     "slide_type": "fragment"
    }
   },
   "outputs": [
    {
     "name": "stdout",
     "output_type": "stream",
     "text": [
      "[0 0 1 1 1]\n",
      "665     0\n",
      "410     0\n",
      "2686    1\n",
      "2222    1\n",
      "2609    1\n",
      "Name: most_least, dtype: int64\n"
     ]
    }
   ],
   "source": [
    "# predict on training\n",
    "df_predicted_test_Y = svm_model.predict(tfidf_test)\n",
    "print(df_predicted_test_Y[0:5])\n",
    "print(Y_test[0:5])"
   ]
  },
  {
   "cell_type": "code",
   "execution_count": 32,
   "metadata": {
    "slideshow": {
     "slide_type": "fragment"
    }
   },
   "outputs": [
    {
     "data": {
      "text/plain": [
       "1    371\n",
       "0    321\n",
       "dtype: int64"
      ]
     },
     "execution_count": 32,
     "metadata": {},
     "output_type": "execute_result"
    }
   ],
   "source": [
    "# see how many were predicted most vs. least\n",
    "pd.Series(df_predicted_test_Y).value_counts()"
   ]
  },
  {
   "cell_type": "markdown",
   "metadata": {
    "slideshow": {
     "slide_type": "slide"
    }
   },
   "source": [
    "## Accuracy Assessment\n",
    "\n",
    "- RMSE (continuous)\n",
    "- Accuracy, Sensitivity, Specificity, AUC\n",
    "    - TP, TN, FP, FN"
   ]
  },
  {
   "cell_type": "markdown",
   "metadata": {},
   "source": [
    "![confusion matrix](https://miro.medium.com/max/924/1*7EYylA6XlXSGBCF77j_rOA.png)"
   ]
  },
  {
   "cell_type": "markdown",
   "metadata": {},
   "source": [
    "![sensitivity recell](https://miro.medium.com/max/878/1*Ub0nZTXYT8MxLzrz0P7jPA.png)"
   ]
  },
  {
   "cell_type": "markdown",
   "metadata": {
    "slideshow": {
     "slide_type": "fragment"
    }
   },
   "source": [
    "**Accuracy** - What % were predicted correctly?  \n",
    "**Sensitivity (Recall)** - Of those that were positives, what % were predicted to be positive?  ; $\\frac {TP}{(TP + FN)}$  \n",
    "**Specificity** - Of those that were actually negatives, what % were predicted to be negative?  $\\frac {TN}{(TN + FP)}$"
   ]
  },
  {
   "cell_type": "markdown",
   "metadata": {
    "slideshow": {
     "slide_type": "fragment"
    }
   },
   "source": [
    "**Precision (Positive Predictive Value, PPV)** = $\\frac {TP}{(TP + FP)}$\n",
    "\n",
    "- probability that predicted positive truly is positive"
   ]
  },
  {
   "cell_type": "markdown",
   "metadata": {
    "slideshow": {
     "slide_type": "slide"
    }
   },
   "source": [
    "### Training Data"
   ]
  },
  {
   "cell_type": "markdown",
   "metadata": {
    "slideshow": {
     "slide_type": "-"
    }
   },
   "source": [
    "Step 9: Assess accuracy in training data"
   ]
  },
  {
   "cell_type": "code",
   "execution_count": 33,
   "metadata": {},
   "outputs": [
    {
     "name": "stdout",
     "output_type": "stream",
     "text": [
      "              precision    recall  f1-score   support\n",
      "\n",
      "           0       0.92      0.91      0.92      1001\n",
      "           1       0.92      0.93      0.92      1074\n",
      "\n",
      "    accuracy                           0.92      2075\n",
      "   macro avg       0.92      0.92      0.92      2075\n",
      "weighted avg       0.92      0.92      0.92      2075\n",
      "\n"
     ]
    }
   ],
   "source": [
    "print(classification_report(Y_train, df_predicted_train_Y))"
   ]
  },
  {
   "cell_type": "code",
   "execution_count": 34,
   "metadata": {
    "slideshow": {
     "slide_type": "notes"
    }
   },
   "outputs": [
    {
     "data": {
      "text/plain": [
       "1    1074\n",
       "0    1001\n",
       "Name: most_least, dtype: int64"
      ]
     },
     "execution_count": 34,
     "metadata": {},
     "output_type": "execute_result"
    }
   ],
   "source": [
    "# where 'support' comes from\n",
    "pd.Series(Y_train).value_counts()"
   ]
  },
  {
   "cell_type": "code",
   "execution_count": 35,
   "metadata": {},
   "outputs": [
    {
     "data": {
      "image/png": "[encoded data removed]",
      "text/plain": [
       "<Figure size 640x480 with 2 Axes>"
      ]
     },
     "metadata": {},
     "output_type": "display_data"
    }
   ],
   "source": [
    "cm = confusion_matrix(Y_train, df_predicted_train_Y)\n",
    "disp = ConfusionMatrixDisplay(cm)\n",
    "disp.plot();\n"
   ]
  },
  {
   "cell_type": "markdown",
   "metadata": {
    "slideshow": {
     "slide_type": "fragment"
    }
   },
   "source": [
    "**support** - the number of occurrences of each class  \n",
    "**precision (PPV)** - ability of the classifier not to label a positive sample as negative  \n",
    "**recall (sensitivity)** - ability of the classifer to find all the positive samples\n"
   ]
  },
  {
   "cell_type": "markdown",
   "metadata": {
    "slideshow": {
     "slide_type": "fragment"
    }
   },
   "source": [
    "**f1-score** - weighted harmonic mean of the precision and recall; score reaches its best value at 1 and worst score at 0  \n",
    "**macro average** - averaging the unweighted mean per label  \n",
    "**weighted average** - averaging the support-weighted mean per label  \n",
    "**micro average** - averaging the total true positives, false negatives and false positives"
   ]
  },
  {
   "cell_type": "markdown",
   "metadata": {
    "slideshow": {
     "slide_type": "slide"
    }
   },
   "source": [
    "### Testing Data"
   ]
  },
  {
   "cell_type": "markdown",
   "metadata": {
    "slideshow": {
     "slide_type": "-"
    }
   },
   "source": [
    "Step 10 or 11: Assess accuracy in testing data"
   ]
  },
  {
   "cell_type": "code",
   "execution_count": 36,
   "metadata": {},
   "outputs": [
    {
     "name": "stdout",
     "output_type": "stream",
     "text": [
      "              precision    recall  f1-score   support\n",
      "\n",
      "           0       0.86      0.86      0.86       320\n",
      "           1       0.88      0.88      0.88       372\n",
      "\n",
      "    accuracy                           0.87       692\n",
      "   macro avg       0.87      0.87      0.87       692\n",
      "weighted avg       0.87      0.87      0.87       692\n",
      "\n"
     ]
    }
   ],
   "source": [
    "print(classification_report(Y_test, df_predicted_test_Y))"
   ]
  },
  {
   "cell_type": "code",
   "execution_count": 37,
   "metadata": {},
   "outputs": [
    {
     "data": {
      "image/png": "[encoded data removed]",
      "text/plain": [
       "<Figure size 640x480 with 2 Axes>"
      ]
     },
     "metadata": {},
     "output_type": "display_data"
    }
   ],
   "source": [
    "cm = confusion_matrix(Y_test, df_predicted_test_Y)\n",
    "disp = ConfusionMatrixDisplay(cm)\n",
    "disp.plot();"
   ]
  },
  {
   "cell_type": "markdown",
   "metadata": {
    "slideshow": {
     "slide_type": "fragment"
    }
   },
   "source": [
    "#### Clicker Question #4\n",
    "\n",
    "Given this output, would you use this model to predict whether or not text was something someone liked or disliked about COGS 108?\n",
    "\n",
    "- A) Yes\n",
    "- B) No\n",
    "- C) Unsure"
   ]
  },
  {
   "cell_type": "markdown",
   "metadata": {
    "slideshow": {
     "slide_type": "slide"
    }
   },
   "source": [
    "### Doing model selection with the validation data"
   ]
  },
  {
   "cell_type": "markdown",
   "metadata": {
    "slideshow": {
     "slide_type": "-"
    }
   },
   "source": [
    "Actually, usually BEFORE you test, you'll want to play with hyperparameters in validation to get the best result.  Fine tuning your model.\n",
    "\n",
    "\n",
    "So consider this an optional step, that usually comes before test if your model has a set of knobs and dials to twiddle.  \n",
    "\n",
    "We only did test first above to build some intuition for you."
   ]
  },
  {
   "cell_type": "code",
   "execution_count": 38,
   "metadata": {
    "slideshow": {
     "slide_type": "fragment"
    }
   },
   "outputs": [
    {
     "name": "stdout",
     "output_type": "stream",
     "text": [
      "              precision    recall  f1-score   support\n",
      "\n",
      "           0       0.80      0.80      0.80       333\n",
      "           1       0.82      0.81      0.81       359\n",
      "\n",
      "    accuracy                           0.81       692\n",
      "   macro avg       0.81      0.81      0.81       692\n",
      "weighted avg       0.81      0.81      0.81       692\n",
      "\n"
     ]
    },
    {
     "data": {
      "image/png": "[encoded data removed]",
      "text/plain": [
       "<Figure size 640x480 with 2 Axes>"
      ]
     },
     "metadata": {},
     "output_type": "display_data"
    }
   ],
   "source": [
    "# play with the parameter C until it looks good\n",
    "svm_model = SVC(kernel='linear', C=100)\n",
    "svm_model.fit(tfidf_train, Y_train)\n",
    "df_predicted_validation_Y = svm_model.predict(tfidf_valid)\n",
    "\n",
    "# assess accuracy\n",
    "cm = confusion_matrix(Y_valid, df_predicted_validation_Y)\n",
    "disp = ConfusionMatrixDisplay(cm)\n",
    "disp.plot();\n",
    "\n",
    "print(classification_report(Y_valid, df_predicted_validation_Y))"
   ]
  },
  {
   "cell_type": "code",
   "execution_count": 41,
   "metadata": {},
   "outputs": [
    {
     "name": "stdout",
     "output_type": "stream",
     "text": [
      "              precision    recall  f1-score   support\n",
      "\n",
      "           0       0.84      0.81      0.82       320\n",
      "           1       0.84      0.86      0.85       372\n",
      "\n",
      "    accuracy                           0.84       692\n",
      "   macro avg       0.84      0.84      0.84       692\n",
      "weighted avg       0.84      0.84      0.84       692\n",
      "\n"
     ]
    },
    {
     "data": {
      "image/png": "[encoded data removed]",
      "text/plain": [
       "<Figure size 640x480 with 2 Axes>"
      ]
     },
     "metadata": {},
     "output_type": "display_data"
    }
   ],
   "source": [
    "#assuming we left the cell above with our BEST model setting\n",
    "# lets refit it with all of train+valid sets\n",
    "svm_model.fit(np.concatenate([tfidf_train.todense(), tfidf_valid.todense()]), \n",
    "              np.concatenate([Y_train, Y_valid]))\n",
    "\n",
    "# get test set predictions\n",
    "df_predicted_test_Y = svm_model.predict(tfidf_test.todense())\n",
    "\n",
    "print(classification_report(Y_test, df_predicted_test_Y))\n",
    "\n",
    "cm = confusion_matrix(Y_test, df_predicted_test_Y)\n",
    "disp = ConfusionMatrixDisplay(cm)\n",
    "disp.plot();"
   ]
  },
  {
   "cell_type": "markdown",
   "metadata": {
    "slideshow": {
     "slide_type": "slide"
    }
   },
   "source": [
    "### Summary"
   ]
  },
  {
   "cell_type": "markdown",
   "metadata": {},
   "source": [
    "1. 80:20 Partition\n",
    "2. Specified TF-IDF as predictor and most/least (0,1) as outcome\n",
    "3. Trained SVM linear classifier\n",
    "4. Built model on Training data\n",
    "5. Predicted in training data and on testing data\n",
    "6. Assessed overall accuracy"
   ]
  },
  {
   "cell_type": "markdown",
   "metadata": {
    "slideshow": {
     "slide_type": "slide"
    }
   },
   "source": [
    "### Approaches For Improvement?\n",
    "\n",
    "- Data Cleaning/Stemming\n",
    "- Different Tuning Parameters?\n",
    "- Cross-Validation?\n",
    "- Train/Test on all data OR Train only Sp20/Fa20/Wi21 (remote quarters)\n",
    "- Different Model?\n",
    "\n",
    "To start with use sklearn the EASY way... don't try to hand code things like Train-Test split or K-Fold cross-validation... read the docs and learn how to use these wonderful functions https://scikit-learn.org/stable/modules/classes.html#module-sklearn.model_selection"
   ]
  },
  {
   "cell_type": "code",
   "execution_count": 47,
   "metadata": {},
   "outputs": [
    {
     "data": {
      "text/plain": [
       "0.8164060816942049"
      ]
     },
     "execution_count": 47,
     "metadata": {},
     "output_type": "execute_result"
    }
   ],
   "source": [
    "from sklearn.model_selection import cross_val_score\n",
    "results = cross_val_score(svm_model, \n",
    "                         X=np.concatenate([tfidf_train.todense(), tfidf_valid.todense()]), \n",
    "                         y=np.concatenate([Y_train, Y_valid]),\n",
    "                         cv=5) \n",
    "import numpy as np\n",
    "np.mean(results)"
   ]
  },
  {
   "cell_type": "markdown",
   "metadata": {},
   "source": [
    "## Feature engineering\n",
    "One thing we didn't talk about is how you need to engineer features for NON-text kinds of inputs\n",
    "\n",
    "In general this is a huge topic that I will try condense for you into two bullet points.\n",
    "\n",
    "- If your data has different kinds of continuous variables, and especially if some of those variables tend to be big numbers (distance to the moon in meters) and some tend to be small numbers (the earths mass as a fraction of the earth's mass), then you need to STANDARDIZE those two variables to have roughly the same magnitude. If you don't then the ML system may think that the large magnitude variable is more predictive than the small magnitude variable.  See this link https://scikit-learn.org/stable/modules/preprocessing.html#preprocessing-scaler\n",
    "- If your data has categorical variables that do not have a natural order to them (red is not greater than blue), then you need to ONE-HOT encode those categorical variables.  Otherwise your ML system will think that red is greater than blue and that can make for some bad predictions.  See this link https://scikit-learn.org/stable/modules/preprocessing.html#preprocessing-categorical-features\n",
    "\n",
    "OK lets talk about how to do things with the non text input..."
   ]
  },
  {
   "cell_type": "code",
   "execution_count": null,
   "metadata": {},
   "outputs": [],
   "source": [
    "import numpy as np\n",
    "import seaborn as sns\n",
    "import pandas as pd \n",
    "\n",
    "%matplotlib inline\n",
    "\n",
    "# lets get some 🐧 data to work with\n",
    "df = sns.load_dataset('penguins').dropna()"
   ]
  },
  {
   "cell_type": "code",
   "execution_count": null,
   "metadata": {},
   "outputs": [],
   "source": [
    "sns.pairplot(df, hue='species');"
   ]
  },
  {
   "cell_type": "markdown",
   "metadata": {},
   "source": [
    "Hmm... lets take a close look at body mass vs bill length.... that seems really promising!!\n",
    "\n",
    "Let's imagine what it would be like to use k-Nearest Neighbors on only those two inputs... it might be enough to make things predict well!"
   ]
  },
  {
   "cell_type": "code",
   "execution_count": null,
   "metadata": {},
   "outputs": [],
   "source": [
    "# what we want to predict\n",
    "y = df['species']\n",
    "# the data we will predict from\n",
    "X = df[['bill_length_mm','body_mass_g']]\n",
    "\n",
    "X"
   ]
  },
  {
   "cell_type": "markdown",
   "metadata": {},
   "source": [
    "UGH!!! the vector difference $\\mathbf{x}_{new} -  \\mathbf{x}_{i}$ is going to be absolutely dominated by body mass... it's two orders of magnitude bigger than bill length!\n",
    "\n",
    "We may not want that!  From the scatterplot it looks like both variables are equally contibuting to understanding species.\n",
    "\n",
    "We need to normalize the data so each variable is a z-scored version of itself... that means both variables will now be on roughly the same order of magnitued (about -3 to 3).  There are in fact many diffrerent kinds of normalization that could work here!  Take a look at this list: https://scikit-learn.org/stable/modules/classes.html#module-sklearn.preprocessing"
   ]
  },
  {
   "cell_type": "code",
   "execution_count": null,
   "metadata": {},
   "outputs": [],
   "source": [
    "from sklearn.preprocessing import StandardScaler\n",
    "\n",
    "preproc = StandardScaler()\n",
    "\n",
    "preproc.fit(X)\n",
    "scaled_data = preproc.transform(X)\n",
    "X['bill_length_mm'] = scaled_data[:,0]\n",
    "X['body_mass_g'] = scaled_data[:,1]\n",
    "\n",
    "X\n",
    "\n",
    "# some things to note here... we could just use scaled_data instead of stuffing\n",
    "# the results back into the dataframe X... I'm just doing this so we can keep\n",
    "# the column labels intact... scaled_data is a numpy ndarray without those labels\n",
    "# sklearn will accept numpy arrays or pandas dataframes/series or any other iterable \n",
    "# as input, so use whatever you want"
   ]
  },
  {
   "cell_type": "code",
   "execution_count": null,
   "metadata": {},
   "outputs": [],
   "source": [
    "from sklearn.neighbors import KNeighborsClassifier\n",
    "from sklearn.metrics import classification_report, ConfusionMatrixDisplay, confusion_matrix\n",
    "\n",
    "pclassifier = KNeighborsClassifier(n_neighbors=15)\n",
    "\n",
    "pclassifier.fit(X,y)\n",
    "predicted = pclassifier.predict(X)\n",
    "\n",
    "print(classification_report(y,predicted))\n",
    "\n",
    "cm = confusion_matrix(y,predicted)\n",
    "disp = ConfusionMatrixDisplay(cm)\n",
    "disp.plot();"
   ]
  },
  {
   "cell_type": "markdown",
   "metadata": {},
   "source": [
    "This result shows us that with just 2 variables we can get to 95% accuracy!\n",
    "\n",
    "BUT note this is TRAINING SET accuracy... something of limited use.\n",
    "\n",
    "Let's figure out how to make a training set/test set\n",
    "\n"
   ]
  },
  {
   "cell_type": "code",
   "execution_count": null,
   "metadata": {},
   "outputs": [],
   "source": [
    "from sklearn.model_selection import train_test_split\n",
    "\n",
    "X_train, X_test, y_train, y_test = train_test_split( X, y, test_size=0.3, random_state=777)\n",
    "\n",
    "print('training/test set sizes')\n",
    "print(X_train.shape, X_test.shape, y_train.shape, y_test.shape)\n",
    "print()\n",
    "\n",
    "pclassifier = KNeighborsClassifier(n_neighbors=15)\n",
    "\n",
    "pclassifier.fit(X_train, y_train)\n",
    "predicted_train = pclassifier.predict(X_train)\n",
    "predicted_test = pclassifier.predict(X_test)\n",
    "\n",
    "print('training set performance')\n",
    "print(classification_report(y_train,predicted_train))\n",
    "print()\n",
    "print('test set performance')\n",
    "print(classification_report(y_test,predicted_test))\n",
    "print()\n",
    "print('test set confusion matrix')\n",
    "cm = confusion_matrix(y_test,predicted_test)\n",
    "disp = ConfusionMatrixDisplay(cm)\n",
    "disp.plot();"
   ]
  },
  {
   "cell_type": "markdown",
   "metadata": {},
   "source": [
    "Well what if instead of train/test, we do cross validation?"
   ]
  },
  {
   "cell_type": "code",
   "execution_count": null,
   "metadata": {},
   "outputs": [],
   "source": [
    "from sklearn.model_selection import cross_val_predict\n",
    "\n",
    "print('lets do 5 fold cross validation...')\n",
    "X_xval, X_test, y_xval, y_test = train_test_split( X, y, test_size=0.3, random_state=777)\n",
    "\n",
    "print('xval/test set sizes')\n",
    "print(X_xval.shape, X_test.shape, y_xval.shape, y_test.shape)\n",
    "print()\n",
    "\n",
    "pclassifier = KNeighborsClassifier(n_neighbors=15)\n",
    "\n",
    "predicted_xval = cross_val_predict(pclassifier, X_xval, y_xval, cv=5)\n",
    "predicted_test = pclassifier.fit(X_xval,y_xval).predict(X_test)\n",
    "\n",
    "print('xval performance')\n",
    "print(classification_report(y_xval,predicted_xval))\n",
    "print()\n",
    "print('test set performance')\n",
    "print(classification_report(y_test,predicted_test))\n",
    "print()\n",
    "print('test set confusion matrix')\n",
    "cm = confusion_matrix(y_test,predicted_test)\n",
    "disp = ConfusionMatrixDisplay(cm)\n",
    "disp.plot();"
   ]
  },
  {
   "cell_type": "markdown",
   "metadata": {},
   "source": [
    "Wow... but cross-validation is really useful for looking at the BEST set of hyperparameters possible... is there a way to do that?"
   ]
  },
  {
   "cell_type": "code",
   "execution_count": null,
   "metadata": {},
   "outputs": [],
   "source": [
    "from sklearn.model_selection import GridSearchCV\n",
    "\n",
    "print('lets do grid search using 5 fold cross validation... and this time lets use all the measurements not just the best two')\n",
    "X = df[['bill_length_mm','bill_depth_mm','flipper_length_mm', 'body_mass_g']]\n",
    "y = df['species']\n",
    "\n",
    "preproc = StandardScaler()\n",
    "\n",
    "preproc.fit(X)\n",
    "scaled_data = preproc.transform(X)\n",
    "X['bill_length_mm'] = scaled_data[:,0]\n",
    "X['bill_depth_mm'] = scaled_data[:,1]\n",
    "X['flipper_length_mm'] = scaled_data[:,2]\n",
    "X['body_mass_g'] = scaled_data[:,3]\n",
    "\n",
    "X_xval, X_test, y_xval, y_test = train_test_split( X, y, test_size=0.3, random_state=777)\n",
    "\n",
    "print('xval/test set sizes')\n",
    "print(X_xval.shape, X_test.shape, y_xval.shape, y_test.shape)\n",
    "print()\n",
    "\n",
    "# note we don't need to put n_neightbors here now :)\n",
    "pclassifier = KNeighborsClassifier()\n",
    "params = { 'n_neighbors':[1,3,5,7,9,11,13,15]}\n",
    "\n",
    "searcher = GridSearchCV(pclassifier, param_grid=params, cv=5)\n",
    "\n",
    "# at this point we run a bunch of cross validations\n",
    "searcher.fit(X_xval, y_xval)\n",
    "\n"
   ]
  },
  {
   "cell_type": "code",
   "execution_count": null,
   "metadata": {},
   "outputs": [],
   "source": [
    "# a fitted set of cvs, one for each param set in the grid\n",
    "searcher.cv_results_"
   ]
  },
  {
   "cell_type": "code",
   "execution_count": null,
   "metadata": {},
   "outputs": [],
   "source": [
    "# you can match this up with mean_test_score above\n",
    "searcher.best_params_"
   ]
  },
  {
   "cell_type": "code",
   "execution_count": null,
   "metadata": {},
   "outputs": [],
   "source": [
    "# searcher, when used as a classifier, uses the best_params_ by default\n",
    "predicted_test = searcher.fit(X_xval,y_xval).predict(X_test)\n",
    "\n",
    "\n",
    "print('test set performance')\n",
    "print(classification_report(y_test,predicted_test))\n",
    "print()\n",
    "print('test set confusion matrix')\n",
    "cm = confusion_matrix(y_test,predicted_test)\n",
    "disp = ConfusionMatrixDisplay(cm)\n",
    "disp.plot();"
   ]
  },
  {
   "cell_type": "markdown",
   "metadata": {},
   "source": [
    "## Support Vector Machines: Maximizing the *Margin*\n",
    "\n",
    "Support vector machines are another ML technique\n",
    "\n",
    "The intuition is this: rather than simply drawing a zero-width line between the classes, we can draw around each line a *margin* of some width, up to the nearest point.\n",
    "Here is an example of how this might look:"
   ]
  },
  {
   "cell_type": "code",
   "execution_count": null,
   "metadata": {
    "scrolled": false
   },
   "outputs": [],
   "source": [
    "from sklearn.datasets import make_blobs\n",
    "import matplotlib.pyplot as plt\n",
    "\n",
    "X, y = make_blobs(n_samples=50, centers=2,\n",
    "                  random_state=0, cluster_std=0.60)\n",
    "\n",
    "xfit = np.linspace(-1, 3.5)\n",
    "sns.scatterplot(x=X[:, 0], y=X[:, 1], hue=y, s=75);\n",
    "\n",
    "for m, b, d in [(1, 0.65, 0.33), (0.5, 1.6, 0.55), (-0.2, 2.9, 0.2)]:\n",
    "    yfit = m * xfit + b\n",
    "    plt.plot(xfit, yfit, '-k')\n",
    "    plt.fill_between(xfit, yfit - d, yfit + d, edgecolor='none',\n",
    "                     color='#AAAAAA', alpha=0.4)\n",
    "\n",
    "plt.xlim(-1, 3.5);"
   ]
  },
  {
   "cell_type": "markdown",
   "metadata": {},
   "source": [
    "In support vector machines, the line that maximizes this margin is the one we will choose as the optimal model.\n",
    "Support vector machines are an example of such a *maximum margin* estimator."
   ]
  },
  {
   "cell_type": "markdown",
   "metadata": {},
   "source": [
    "### Fitting a support vector machine\n",
    "\n",
    "Let's see the result of an actual fit to this data: we will use Scikit-Learn's support vector classifier to train an SVM model on this data.\n",
    "For the time being, we will use a linear kernel and set the ``C`` parameter to a very large number (we'll discuss the meaning of these in more depth momentarily)."
   ]
  },
  {
   "cell_type": "code",
   "execution_count": null,
   "metadata": {},
   "outputs": [],
   "source": [
    "from sklearn.svm import SVC # \"Support vector classifier\"\n",
    "model = SVC(kernel='linear', C=1E10)\n",
    "model.fit(X, y)"
   ]
  },
  {
   "cell_type": "code",
   "execution_count": null,
   "metadata": {},
   "outputs": [],
   "source": [
    "dir(model)"
   ]
  },
  {
   "cell_type": "markdown",
   "metadata": {},
   "source": [
    "To better visualize what's happening here, let's create a quick convenience function that will plot SVM decision boundaries for us:"
   ]
  },
  {
   "cell_type": "code",
   "execution_count": null,
   "metadata": {},
   "outputs": [],
   "source": [
    "def plot_svc_decision_function(model, ax=None, plot_support=True):\n",
    "    \"\"\"Plot the decision function for a 2D SVC\"\"\"\n",
    "    if ax is None:\n",
    "        ax = plt.gca()\n",
    "    xlim = ax.get_xlim()\n",
    "    ylim = ax.get_ylim()\n",
    "    \n",
    "    # create grid to evaluate model\n",
    "    x = np.linspace(xlim[0], xlim[1], 30)\n",
    "    y = np.linspace(ylim[0], ylim[1], 30)\n",
    "    Y, X = np.meshgrid(y, x)\n",
    "    xy = np.vstack([X.ravel(), Y.ravel()]).T\n",
    "    P = model.decision_function(xy).reshape(X.shape)\n",
    "    \n",
    "    # plot decision boundary and margins\n",
    "    ax.contour(X, Y, P, colors='k',\n",
    "               levels=[-1, 0, 1], alpha=0.5,\n",
    "               linestyles=['--', '-', '--'])\n",
    "    \n",
    "    # plot support vectors\n",
    "    if plot_support:\n",
    "        ax.scatter(model.support_vectors_[:, 0],\n",
    "                   model.support_vectors_[:, 1],\n",
    "                   s=300, linewidth=3, facecolors='none', edgecolor='k');\n",
    "    ax.set_xlim(xlim)\n",
    "    ax.set_ylim(ylim)"
   ]
  },
  {
   "cell_type": "code",
   "execution_count": null,
   "metadata": {},
   "outputs": [],
   "source": [
    "sns.scatterplot(x=X[:, 0], y=X[:, 1], hue=y, s=75);\n",
    "\n",
    "plot_svc_decision_function(model);"
   ]
  },
  {
   "cell_type": "markdown",
   "metadata": {},
   "source": [
    "This is the dividing line that maximizes the margin between the two sets of points.\n",
    "Notice that a few of the training points just touch the margin: they are indicated by the black circles in this figure.\n",
    "These points are the pivotal elements of this fit, and are known as the *support vectors*, and give the algorithm its name.\n",
    "In Scikit-Learn, the identity of these points are stored in the ``support_vectors_`` attribute of the classifier:"
   ]
  },
  {
   "cell_type": "code",
   "execution_count": null,
   "metadata": {},
   "outputs": [],
   "source": [
    "model.support_vectors_"
   ]
  },
  {
   "cell_type": "markdown",
   "metadata": {},
   "source": [
    "A key to this classifier's success is that for the fit, only the position of the support vectors matter; any points further from the margin which are on the correct side do not modify the fit!\n",
    "Technically, this is because these points do not contribute to the loss function used to fit the model, so their position and number do not matter so long as they do not cross the margin.\n",
    "\n",
    "We can see this, for example, if we plot the model learned from the first 60 points and first 120 points of this dataset:"
   ]
  },
  {
   "cell_type": "code",
   "execution_count": null,
   "metadata": {},
   "outputs": [],
   "source": [
    "%matplotlib inline\n",
    "\n",
    "def plot_svm(N=10, ax=None):\n",
    "    X, y = make_blobs(n_samples=200, centers=2,\n",
    "                      random_state=0, cluster_std=0.60)\n",
    "    X = X[:N]\n",
    "    y = y[:N]\n",
    "    model = SVC(kernel='linear', C=1E10)\n",
    "    model.fit(X, y)\n",
    "    \n",
    "    ax = ax or plt.gca()\n",
    "    sns.scatterplot(x=X[:, 0], y=X[:, 1], hue=y, s=75, ax=ax)\n",
    "    ax.set_xlim(-1, 4)\n",
    "    ax.set_ylim(-1, 6)\n",
    "    plot_svc_decision_function(model, ax)\n",
    "\n",
    "fig, ax = plt.subplots(1, 3, figsize=(16, 6))\n",
    "fig.subplots_adjust(left=0.0625, right=0.95, wspace=0.1)\n",
    "for axi, N in zip(ax, [30, 60, 120]):\n",
    "    plot_svm(N, axi)\n",
    "    axi.set_title('N = {0}'.format(N))"
   ]
  },
  {
   "cell_type": "markdown",
   "metadata": {},
   "source": [
    "In the left panel, we see the model and the support vectors for just 10 training points, in the middle we see  60 training points and on the right panel 120 points.  While going from 30 to 60 caused changes, going from 60 to 120 did not becuase the support vectors (the points on the margin line) had not changed.\n",
    "\n",
    "This insensitivity to the exact behavior of distant points is one of the strengths of the SVM model."
   ]
  },
  {
   "cell_type": "markdown",
   "metadata": {},
   "source": [
    "### Beyond linear boundaries: Kernel SVM\n",
    "\n",
    "Where SVM becomes extremely powerful is when it is combined with *kernels*.\n",
    "We have seen a version of kernels before: Remember polynomial features from the regression lectures?  \n",
    "\n",
    "There we projected our data into higher-dimensional space defined by polynomials functions, and thereby were able to fit for nonlinear relationships with a linear regression.\n",
    "\n",
    "In SVM models, we can use a version of the same idea.\n",
    "To motivate the need for kernels, let's look at some data that is not linearly separable:"
   ]
  },
  {
   "cell_type": "code",
   "execution_count": null,
   "metadata": {},
   "outputs": [],
   "source": [
    "from sklearn.datasets import make_circles\n",
    "X, y = make_circles(100, factor=.1, noise=.1)\n",
    "\n",
    "clf = SVC(kernel='linear').fit(X, y)\n",
    "\n",
    "sns.scatterplot(x=X[:, 0], y=X[:, 1], hue=y, s=75);\n",
    "plt.xlabel('x1')\n",
    "plt.ylabel('x2');\n",
    "#plot_svc_decision_function(clf, plot_support=False);"
   ]
  },
  {
   "cell_type": "markdown",
   "metadata": {},
   "source": [
    "It is clear that no linear discrimination will *ever* be able to separate this data.\n",
    "\n",
    "One simple projection we could use would be to compute a *radial basis function* centered on the middle clump:"
   ]
  },
  {
   "cell_type": "code",
   "execution_count": null,
   "metadata": {},
   "outputs": [],
   "source": [
    "phi = np.exp(-(X ** 2).sum(1))"
   ]
  },
  {
   "cell_type": "markdown",
   "metadata": {},
   "source": [
    "Adding phi as a 3rd dimension gives us this:"
   ]
  },
  {
   "cell_type": "code",
   "execution_count": null,
   "metadata": {},
   "outputs": [],
   "source": [
    "%matplotlib notebook\n",
    "\n",
    "from mpl_toolkits import mplot3d\n",
    "from matplotlib.colors import ListedColormap\n",
    "cmap = ListedColormap(sns.color_palette()[:2])\n",
    "\n",
    "ax = plt.subplot(projection='3d')\n",
    "ax.scatter3D(X[:, 0], X[:, 1], phi, c=y, s=7, cmap=cmap)\n",
    "ax.set_xlabel('x1')\n",
    "ax.set_ylabel('x2')\n",
    "ax.set_zlabel('$\\phi(\\mathbf{x})_3$');\n"
   ]
  },
  {
   "cell_type": "markdown",
   "metadata": {},
   "source": [
    "We can see that with this additional dimension, the data becomes trivially linearly separable, by drawing a separating plane at, say, *phi*=0.7.\n",
    "\n",
    "Here we had to choose and carefully tune our projection: if we had not centered our radial basis function in the right location, we would not have seen such clean, linearly separable results.\n",
    "In general, the need to make such a choice is a problem: we would like to somehow automatically find the best basis functions to use.\n",
    "\n",
    "One strategy to this end is to compute a basis function centered at *every* point in the dataset, and let the SVM algorithm sift through the results.\n",
    "This type of basis function transformation is known as a *kernel transformation*, as it is based on a similarity relationship (or kernel) between each pair of points.\n",
    "\n",
    "A potential problem with this strategy—projecting $N$ points into $N$ dimensions—is that it might become very computationally intensive as $N$ grows large.\n",
    "However, because of a neat little procedure known as the [*kernel trick*](https://en.wikipedia.org/wiki/Kernel_trick), a fit on kernel-transformed data can be done implicitly—that is, without ever building the full $N$-dimensional representation of the kernel projection!\n",
    "This kernel trick is built into the SVM, and is one of the reasons the method is so powerful.\n",
    "\n",
    "In Scikit-Learn, we can apply kernelized SVM simply by changing our linear kernel to an RBF (radial basis function) kernel, using the ``kernel`` model hyperparameter:"
   ]
  },
  {
   "cell_type": "code",
   "execution_count": null,
   "metadata": {},
   "outputs": [],
   "source": [
    "%matplotlib inline"
   ]
  },
  {
   "cell_type": "code",
   "execution_count": null,
   "metadata": {},
   "outputs": [],
   "source": [
    "clf = SVC(kernel='polynomial', C=1E6)\n",
    "clf.fit(X, y)"
   ]
  },
  {
   "cell_type": "code",
   "execution_count": null,
   "metadata": {},
   "outputs": [],
   "source": [
    "sns.scatterplot(x=X[:, 0], y=X[:, 1], hue=y, s=75)\n",
    "plot_svc_decision_function(clf)\n",
    "plt.scatter(clf.support_vectors_[:, 0], clf.support_vectors_[:, 1],\n",
    "            s=300, lw=1, facecolors='none', edgecolor='k');"
   ]
  },
  {
   "cell_type": "markdown",
   "metadata": {},
   "source": [
    "Using this kernelized support vector machine, we learn a suitable nonlinear decision boundary.\n",
    "This kernel transformation strategy is used often in machine learning to turn fast linear methods into fast nonlinear methods, especially for models in which the kernel trick can be used."
   ]
  },
  {
   "cell_type": "markdown",
   "metadata": {},
   "source": [
    "### Tuning the SVM: Softening Margins\n",
    "\n",
    "Our discussion thus far has centered around very clean datasets, in which a perfect decision boundary exists.\n",
    "But what if your data has some amount of overlap?\n",
    "For example, you may have data like this:"
   ]
  },
  {
   "cell_type": "code",
   "execution_count": null,
   "metadata": {},
   "outputs": [],
   "source": [
    "X, y = make_blobs(n_samples=100, centers=2,\n",
    "                  random_state=0, cluster_std=1.2)\n",
    "sns.scatterplot(x=X[:, 0], y=X[:, 1], hue=y, s=75);"
   ]
  },
  {
   "cell_type": "markdown",
   "metadata": {},
   "source": [
    "To handle this case, the SVM implementation has a bit of a fudge-factor which \"softens\" the margin: that is, it allows some of the points to creep into the margin if that allows a better fit.\n",
    "The hardness of the margin is controlled by a tuning parameter, most often known as $C$.\n",
    "For very large $C$, the margin is hard, and points cannot lie in it.\n",
    "For smaller $C$, the margin is softer, and can grow to encompass some points.\n",
    "\n",
    "The plot shown below gives a visual picture of how a changing $C$ parameter affects the final fit, via the softening of the margin:"
   ]
  },
  {
   "cell_type": "code",
   "execution_count": null,
   "metadata": {},
   "outputs": [],
   "source": [
    "X, y = make_blobs(n_samples=100, centers=2,\n",
    "                  random_state=0, cluster_std=0.8)\n",
    "\n",
    "fig, ax = plt.subplots(1, 2, figsize=(16, 6))\n",
    "fig.subplots_adjust(left=0.0625, right=0.95, wspace=0.1)\n",
    "\n",
    "for axi, C in zip(ax, [10.0, 0.1]):\n",
    "    model = SVC(kernel='linear', C=C).fit(X, y)\n",
    "    sns.scatterplot(x=X[:, 0], y=X[:, 1], hue=y, s=75, ax=axi)\n",
    "    plot_svc_decision_function(model, axi)\n",
    "    axi.scatter(model.support_vectors_[:, 0],\n",
    "                model.support_vectors_[:, 1],\n",
    "                s=300, lw=1, facecolors='none', edgecolor='k');\n",
    "    axi.set_title('C = {0:.1f}'.format(C), size=14)"
   ]
  },
  {
   "cell_type": "markdown",
   "metadata": {},
   "source": [
    "The optimal value of the $C$ parameter will depend on your dataset, and should be tuned using cross-validation or a similar model selection procedure.\n",
    "\n",
    "\n",
    "In fact in general we would want to do model selection on all the hyperparameters of the SVM... $C$, what kernel to use, and whatever hyperparameters are unique to each kernel like polynomial order in $\\phi$.\n",
    "\n",
    "In fact sklearn gives us a powerful tool to do exactly this. Which I will demonstrate below.\n",
    "\n",
    "If you're actually following us all the way to this point you are getting into the territory of where I want you to be during this point in the quarter in COGS118A.  So if you are NOT following don't worry too much about it... this is advanced stuff "
   ]
  },
  {
   "cell_type": "code",
   "execution_count": null,
   "metadata": {},
   "outputs": [],
   "source": [
    "# NOTE: this will take around 2-3 minutes to run\n",
    "\n",
    "from sklearn.compose import ColumnTransformer\n",
    "from sklearn.compose import make_column_selector as selector\n",
    "from sklearn.preprocessing import OneHotEncoder, StandardScaler\n",
    "from sklearn.pipeline import Pipeline\n",
    "from sklearn.svm import SVC\n",
    "from sklearn.model_selection import train_test_split, GridSearchCV\n",
    "\n",
    "\n",
    "# what we want to predict\n",
    "y = df['species']\n",
    "# the data we will predict from... note that we will include SEX\n",
    "# because penguin sex is actually pretty important in their size measurements\n",
    "X = df.drop(columns=['island','species'])\n",
    "\n",
    "# sex is a categorical variable... it needs to be one hot encoded!\n",
    "# we know from before that we need to z-score the numeric variables\n",
    "\n",
    "# here we setup a way to transform the categorical variables into one hot, \n",
    "# and to z-score the numeric variables.... completely automatically!!\n",
    "# remember how we had to do this with a bunch of different\n",
    "# steps manually the last time around??\n",
    "# if you'd like to understand how to do this more generally\n",
    "# search the sklearn docs for ColumnTransformer!\n",
    "numerical_columns_selector = selector(dtype_exclude=object)\n",
    "categorical_columns_selector = selector(dtype_include=object)\n",
    "\n",
    "numerical_columns = numerical_columns_selector(X)\n",
    "categorical_columns = categorical_columns_selector(X)\n",
    "\n",
    "onehot = OneHotEncoder()\n",
    "scaler = StandardScaler()\n",
    "\n",
    "preprocessor = ColumnTransformer([\n",
    "    ('onehot', onehot, categorical_columns),\n",
    "    ('zscore', scaler, numerical_columns)])\n",
    "\n",
    "\n",
    "# Create a pipeline \n",
    "# a pipeline puts together two (or 3 or however many) steps into one sklearn\n",
    "# estimator. That means we can use pipe instead of svc in any xval or grid search\n",
    "# and get the preprocessing done for us in the same step\n",
    "pipe = Pipeline([('make_features', preprocessor),\n",
    "                 ('classifier', SVC())])\n",
    "\n",
    "# SVM have very different hyperparameters depending on which kernel\n",
    "# potential hyperparams are gamma, coef0, degree and kernel.\n",
    "# here <x,x'> and ||x-x'|| are similarities between two vectors x,x'\n",
    "# linear kernel:     <x,x'>  [no hyperparams]\n",
    "# poly kernel:       ( gamma * <x,x'> + coef0 )^degree \n",
    "# rbf kernel:        exp( - gamma * ||x-x'||^2 )\n",
    "# sigmoid kernel:    tanh( gamma * <x,x'> + coef0 )\n",
    "\n",
    "# so how can we search using only using hypers appropriate for each kernel?\n",
    "# like this...make a list of different search spaces you want to execute\n",
    "search_space = [{'classifier__kernel': ['linear'],\n",
    "                 'classifier__C': np.logspace(-3, 2, 11) #11 steps between 10^-3 to 10^2\n",
    "                },\n",
    "                {'classifier__kernel': ['poly'],\n",
    "                 'classifier__gamma': np.logspace(-3, 2, 11),\n",
    "                 'classifier__degree': range(2,14),\n",
    "                 # NOPE... this isnt often important 'classifier__coef0': np.logspace(-3, 2, 11),\n",
    "                 'classifier__C': np.logspace(-3, 2, 11)\n",
    "                },\n",
    "                {'classifier__kernel': ['rbf'],\n",
    "                 'classifier__gamma': np.logspace(-3, 2, 11),\n",
    "                 'classifier__C': np.logspace(-3, 2, 11)\n",
    "                },\n",
    "                ]\n",
    "\n",
    "\n",
    "\n",
    "# Create a grid search object to find the best model\n",
    "best_model = GridSearchCV(pipe, search_space, cv=5, verbose=1)\n",
    "# play with different verbose=??\n",
    "\n",
    "# now lets split off some of our data for testing set... the rest will be used from cross validation\n",
    "X_train, X_test, y_train, y_test = train_test_split(X, y, \n",
    "                                                    test_size=0.25, random_state=101)\n",
    "\n",
    "\n",
    "# Fit grid search\n",
    "%time best_model.fit(X_train, y_train)\n",
    "\n",
    "\n"
   ]
  },
  {
   "cell_type": "code",
   "execution_count": null,
   "metadata": {},
   "outputs": [],
   "source": [
    "# lets find out how well we do on the test set...\n",
    "print(best_model.best_params_)\n",
    "yhat = best_model.predict(X_test)\n",
    "print(classification_report(y_test, yhat))\n",
    "ConfusionMatrixDisplay.from_predictions(y_test, yhat);"
   ]
  },
  {
   "cell_type": "code",
   "execution_count": null,
   "metadata": {},
   "outputs": [],
   "source": []
  }
 ],
 "metadata": {
  "celltoolbar": "Slideshow",
  "kernelspec": {
   "display_name": "Python 3 (ipykernel)",
   "language": "python",
   "name": "python3"
  },
  "language_info": {
   "codemirror_mode": {
    "name": "ipython",
    "version": 3
   },
   "file_extension": ".py",
   "mimetype": "text/x-python",
   "name": "python",
   "nbconvert_exporter": "python",
   "pygments_lexer": "ipython3",
   "version": "3.8.8"
  },
  "rise": {
   "scroll": true
  }
 },
 "nbformat": 4,
 "nbformat_minor": 2
}
